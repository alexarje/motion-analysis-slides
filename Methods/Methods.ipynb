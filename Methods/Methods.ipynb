{
 "cells": [
  {
   "cell_type": "markdown",
   "metadata": {
    "slideshow": {
     "slide_type": "slide"
    }
   },
   "source": [
    "![RITMO](../img/uio_sff_segl_eng_a.png)\n",
    "\n",
    "# Methods for studying music-related body motion\n",
    "\n",
    "[Alexander Refsum Jensenius](http://people.uio.no/alexanje)   \n",
    "\n",
    "***\n",
    "\n",
    "Based on: Jensenius, Alexander Refsum. [Methods for Studying Music-Related Body Motion](https://www.springerprofessional.de/en/methods-for-studying-music-related-body-motion/15554662). In *Handbook of Systematic Musicology*, edited by Rolf Bader, 567–80. Berlin Heidelberg: Springer-Verlag, 2018.\n"
   ]
  },
  {
   "cell_type": "markdown",
   "metadata": {
    "slideshow": {
     "slide_type": "subslide"
    }
   },
   "source": [
    "## About me\n",
    "\n",
    "[Alexander Refsum Jensenius](http://people.uio.no/alexanje)   \n"
   ]
  },
  {
   "cell_type": "markdown",
   "metadata": {
    "slideshow": {
     "slide_type": "subslide"
    }
   },
   "source": [
    "## RITMO\n",
    "\n",
    "![RITMO](../img/RITMO-merke-horisontalt-290818.png)\n",
    "\n",
    "[RITMO Centre for Interdisciplinary Studies in Rhythm, Time and Motion](http://www.uio.no/ritmo)    \n"
   ]
  },
  {
   "cell_type": "markdown",
   "metadata": {
    "slideshow": {
     "slide_type": "subslide"
    }
   },
   "source": [
    "\n",
    "![RITMO](../img/research-priorites-ritmo.png)\n",
    "\n",
    "[RITMO Centre for Interdisciplinary Studies in Rhythm, Time and Motion](http://www.uio.no/ritmo)    \n"
   ]
  },
  {
   "cell_type": "markdown",
   "metadata": {
    "slideshow": {
     "slide_type": "slide"
    }
   },
   "source": [
    "## Music-related body motion\n",
    "\n"
   ]
  },
  {
   "cell_type": "markdown",
   "metadata": {
    "slideshow": {
     "slide_type": "subslide"
    }
   },
   "source": [
    "\n",
    "music-related ≠ musical\n"
   ]
  },
  {
   "cell_type": "markdown",
   "metadata": {
    "slideshow": {
     "slide_type": "subslide"
    }
   },
   "source": [
    "* *performers*: musicians, conductors and dancers, ...\n",
    "    \n",
    "* *perceivers*: concert audience, dancers, spontaneous movers, ...\n",
    "    "
   ]
  },
  {
   "cell_type": "markdown",
   "metadata": {
    "slideshow": {
     "slide_type": "subslide"
    }
   },
   "source": [
    "\n",
    "perceiver ≠ listener\n",
    "\n",
    "(musical experiences are multimodal and embodied!)\n"
   ]
  },
  {
   "cell_type": "markdown",
   "metadata": {
    "slideshow": {
     "slide_type": "subslide"
    }
   },
   "source": [
    "## Some questions to consider\n",
    "\n",
    "-   Aim: why is music-related motion interesting in this study?\n",
    "\n",
    "-   Subjects: who and how many subjects will be studied?\n",
    "\n",
    "-   Motion: what type of motion is expected, and in which parts of the body?\n",
    "\n",
    "-   Environment: will the study be carried out in a \"controlled\" environment (such as a lab) or in an \"ecological\" setting (such as a concert hall)?\n",
    "\n",
    "-   Artefacts: will there be any instruments, tools or other types of technologies used in the setup, and how will they be captured and synchronised?\n",
    "\n",
    "-   Audio: what type and quality of sound recording is needed?\n",
    "\n",
    "-   Video: what type of video recording is needed?\n",
    "\n",
    "-   Data handling: how will the different types of data be synchronised?\n",
    "\n",
    "-   Analysis: what type of analysis is planned?\n",
    "\n"
   ]
  },
  {
   "cell_type": "markdown",
   "metadata": {
    "slideshow": {
     "slide_type": "subslide"
    }
   },
   "source": [
    "## Analysis types\n",
    "\n",
    "Descriptive analysis:\n",
    "\n",
    "- *kinematics*: velocity or acceleration\n",
    "- *spatial features*: size and position in the room\n",
    "- *temporal features*: frequency components\n",
    "\n",
    "Functional analysis: \n",
    "\n",
    "- sound-producing\n",
    "- sound-modifying\n",
    "- sound-accompanying\n",
    "- communicative\n"
   ]
  },
  {
   "cell_type": "markdown",
   "metadata": {
    "slideshow": {
     "slide_type": "slide"
    }
   },
   "source": [
    "## Qualitative analysis methods"
   ]
  },
  {
   "cell_type": "markdown",
   "metadata": {
    "slideshow": {
     "slide_type": "subslide"
    }
   },
   "source": [
    "\n",
    "### Labanotation\n",
    "\n",
    "\n",
    "![Labanotation](fig/labanotation.jpg)\n",
    "\n"
   ]
  },
  {
   "cell_type": "markdown",
   "metadata": {
    "slideshow": {
     "slide_type": "subslide"
    }
   },
   "source": [
    "![Overview of all the categories in the Laban Movement Analysis\n",
    "(LMA)](fig/lma.jpg)"
   ]
  },
  {
   "cell_type": "markdown",
   "metadata": {
    "slideshow": {
     "slide_type": "subslide"
    }
   },
   "source": [
    "## Effort\n",
    "\n",
    "-   Space (direct-indirect)\n",
    "\n",
    "-   Time (quick-sustained)\n",
    "\n",
    "-   Weight (strong-light)\n",
    "\n",
    "-   Flow (bound-free)"
   ]
  },
  {
   "cell_type": "markdown",
   "metadata": {
    "slideshow": {
     "slide_type": "slide"
    }
   },
   "source": [
    "## Quantative Analysis Methods\n",
    "\n",
    "Se other presentation!"
   ]
  }
 ],
 "metadata": {
  "celltoolbar": "Slideshow",
  "kernelspec": {
   "display_name": "Python 3",
   "language": "python",
   "name": "python3"
  },
  "language_info": {
   "codemirror_mode": {
    "name": "ipython",
    "version": 3
   },
   "file_extension": ".py",
   "mimetype": "text/x-python",
   "name": "python",
   "nbconvert_exporter": "python",
   "pygments_lexer": "ipython3",
   "version": "3.6.7"
  }
 },
 "nbformat": 4,
 "nbformat_minor": 2
}
